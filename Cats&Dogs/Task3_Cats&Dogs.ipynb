{
  "nbformat": 4,
  "nbformat_minor": 0,
  "metadata": {
    "colab": {
      "provenance": []
    },
    "kernelspec": {
      "name": "python3",
      "display_name": "Python 3"
    },
    "language_info": {
      "name": "python"
    }
  },
  "cells": [
    {
      "cell_type": "code",
      "source": [
        "!wget https://storage.googleapis.com/tensorflow-1-public/course2/cats_and_dogs_filtered.zip\n",
        "!unzip -q cats_and_dogs_filtered.zip"
      ],
      "metadata": {
        "colab": {
          "base_uri": "https://localhost:8080/"
        },
        "id": "JJViB1dx_S9y",
        "outputId": "78842f48-9831-44d9-ef25-11401089b6f0"
      },
      "execution_count": null,
      "outputs": [
        {
          "output_type": "stream",
          "name": "stdout",
          "text": [
            "--2024-08-22 18:25:49--  https://storage.googleapis.com/tensorflow-1-public/course2/cats_and_dogs_filtered.zip\n",
            "Resolving storage.googleapis.com (storage.googleapis.com)... 172.253.122.207, 172.253.63.207, 142.250.31.207, ...\n",
            "Connecting to storage.googleapis.com (storage.googleapis.com)|172.253.122.207|:443... connected.\n",
            "HTTP request sent, awaiting response... 200 OK\n",
            "Length: 68606236 (65M) [application/zip]\n",
            "Saving to: ‘cats_and_dogs_filtered.zip’\n",
            "\n",
            "cats_and_dogs_filte 100%[===================>]  65.43M  81.0MB/s    in 0.8s    \n",
            "\n",
            "2024-08-22 18:25:50 (81.0 MB/s) - ‘cats_and_dogs_filtered.zip’ saved [68606236/68606236]\n",
            "\n"
          ]
        }
      ]
    },
    {
      "cell_type": "code",
      "source": [
        "import numpy as np\n",
        "import cv2\n",
        "import os\n",
        "from sklearn import svm\n",
        "from sklearn.model_selection import train_test_split\n",
        "from sklearn.metrics import accuracy_score\n",
        "from sklearn.preprocessing import StandardScaler"
      ],
      "metadata": {
        "id": "3WiEBI3E_7Dn"
      },
      "execution_count": null,
      "outputs": []
    },
    {
      "cell_type": "code",
      "source": [
        "def load_images_from_folder(folder):\n",
        "  images=[]\n",
        "  labels=[]\n",
        "  for filename in os.listdir(folder):\n",
        "    img=cv2.imread(os.path.join(folder,filename))\n",
        "    if img is not None:\n",
        "      img=cv2.resize(img,(64,64))\n",
        "      images.append(img)\n",
        "      label=1 if 'dog' in filename else 0\n",
        "      labels.append(label)\n",
        "  return images,labels"
      ],
      "metadata": {
        "id": "TeIKyVk7Wig2"
      },
      "execution_count": null,
      "outputs": []
    },
    {
      "cell_type": "code",
      "source": [
        "cat_images,cat_labels=load_images_from_folder('cats_and_dogs_filtered/train/cats')\n",
        "dog_images,dog_labels=load_images_from_folder('cats_and_dogs_filtered/train/dogs')\n",
        "cat_images[0]"
      ],
      "metadata": {
        "colab": {
          "base_uri": "https://localhost:8080/",
          "height": 105
        },
        "id": "by_zRyknXJtU",
        "outputId": "2d9d4800-04bd-409b-fd6c-344849aa45b3"
      },
      "execution_count": null,
      "outputs": [
        {
          "output_type": "execute_result",
          "data": {
            "text/plain": [
              "array([[[138, 140, 140],\n",
              "        [138, 141, 141],\n",
              "        [141, 143, 143],\n",
              "        ...,\n",
              "        [176, 185, 185],\n",
              "        [164, 169, 170],\n",
              "        [154, 164, 164]],\n",
              "\n",
              "       [[140, 142, 142],\n",
              "        [140, 142, 142],\n",
              "        [140, 142, 142],\n",
              "        ...,\n",
              "        [172, 180, 187],\n",
              "        [169, 171, 179],\n",
              "        [168, 172, 173]],\n",
              "\n",
              "       [[140, 142, 142],\n",
              "        [140, 142, 142],\n",
              "        [140, 145, 144],\n",
              "        ...,\n",
              "        [173, 183, 183],\n",
              "        [173, 178, 179],\n",
              "        [168, 173, 172]],\n",
              "\n",
              "       ...,\n",
              "\n",
              "       [[161, 167, 166],\n",
              "        [162, 168, 167],\n",
              "        [161, 169, 168],\n",
              "        ...,\n",
              "        [151, 165, 164],\n",
              "        [148, 163, 162],\n",
              "        [152, 164, 162]],\n",
              "\n",
              "       [[152, 163, 161],\n",
              "        [154, 165, 163],\n",
              "        [153, 164, 162],\n",
              "        ...,\n",
              "        [152, 164, 164],\n",
              "        [150, 162, 162],\n",
              "        [151, 164, 162]],\n",
              "\n",
              "       [[154, 164, 160],\n",
              "        [154, 166, 161],\n",
              "        [155, 164, 162],\n",
              "        ...,\n",
              "        [150, 163, 162],\n",
              "        [151, 164, 163],\n",
              "        [150, 164, 163]]], dtype=uint8)"
            ],
            "text/html": [
              "<style>\n",
              "      .ndarray_repr .ndarray_raw_data {\n",
              "        display: none;\n",
              "      }\n",
              "      .ndarray_repr.show_array .ndarray_raw_data {\n",
              "        display: block;\n",
              "      }\n",
              "      .ndarray_repr.show_array .ndarray_image_preview {\n",
              "        display: none;\n",
              "      }\n",
              "      </style>\n",
              "      <div id=\"id-b5d44fa8-003b-4f8f-846b-a21eb2221b1d\" class=\"ndarray_repr\"><pre>ndarray (64, 64, 3) <button style=\"padding: 0 2px;\">show data</button></pre><img src=\"data:image/png;base64,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\" class=\"ndarray_image_preview\" /><pre class=\"ndarray_raw_data\">array([[[138, 140, 140],\n",
              "        [138, 141, 141],\n",
              "        [141, 143, 143],\n",
              "        ...,\n",
              "        [176, 185, 185],\n",
              "        [164, 169, 170],\n",
              "        [154, 164, 164]],\n",
              "\n",
              "       [[140, 142, 142],\n",
              "        [140, 142, 142],\n",
              "        [140, 142, 142],\n",
              "        ...,\n",
              "        [172, 180, 187],\n",
              "        [169, 171, 179],\n",
              "        [168, 172, 173]],\n",
              "\n",
              "       [[140, 142, 142],\n",
              "        [140, 142, 142],\n",
              "        [140, 145, 144],\n",
              "        ...,\n",
              "        [173, 183, 183],\n",
              "        [173, 178, 179],\n",
              "        [168, 173, 172]],\n",
              "\n",
              "       ...,\n",
              "\n",
              "       [[161, 167, 166],\n",
              "        [162, 168, 167],\n",
              "        [161, 169, 168],\n",
              "        ...,\n",
              "        [151, 165, 164],\n",
              "        [148, 163, 162],\n",
              "        [152, 164, 162]],\n",
              "\n",
              "       [[152, 163, 161],\n",
              "        [154, 165, 163],\n",
              "        [153, 164, 162],\n",
              "        ...,\n",
              "        [152, 164, 164],\n",
              "        [150, 162, 162],\n",
              "        [151, 164, 162]],\n",
              "\n",
              "       [[154, 164, 160],\n",
              "        [154, 166, 161],\n",
              "        [155, 164, 162],\n",
              "        ...,\n",
              "        [150, 163, 162],\n",
              "        [151, 164, 163],\n",
              "        [150, 164, 163]]], dtype=uint8)</pre></div><script>\n",
              "      (() => {\n",
              "      const titles = ['show data', 'hide data'];\n",
              "      let index = 0\n",
              "      document.querySelector('#id-b5d44fa8-003b-4f8f-846b-a21eb2221b1d button').onclick = (e) => {\n",
              "        document.querySelector('#id-b5d44fa8-003b-4f8f-846b-a21eb2221b1d').classList.toggle('show_array');\n",
              "        index = (++index) % 2;\n",
              "        document.querySelector('#id-b5d44fa8-003b-4f8f-846b-a21eb2221b1d button').textContent = titles[index];\n",
              "        e.preventDefault();\n",
              "        e.stopPropagation();\n",
              "      }\n",
              "      })();\n",
              "    </script>"
            ]
          },
          "metadata": {},
          "execution_count": 5
        }
      ]
    },
    {
      "cell_type": "code",
      "source": [
        "images=np.array(cat_images+dog_images)\n",
        "labels=np.array(cat_labels+dog_labels)\n",
        "#Flatten the images\n",
        "images=images.reshape(images.shape[0],-1) # it converts multi-dimensional array to 1-d array.\n",
        "images=images.astype('float32')/255#converts the pixel values of the images to a floating-point format and scales them to the range [0, 1]"
      ],
      "metadata": {
        "id": "Kvn_tLLTXYxA"
      },
      "execution_count": null,
      "outputs": []
    },
    {
      "cell_type": "code",
      "source": [
        "X_train, X_test, y_train, y_test = train_test_split(images, labels, test_size=0.2, random_state=42)\n",
        "scaler = StandardScaler()\n",
        "X_train = scaler.fit_transform(X_train)\n",
        "X_test = scaler.transform(X_test)\n",
        "scaler = StandardScaler()\n",
        "X_train = scaler.fit_transform(X_train)\n",
        "X_test = scaler.transform(X_test)\n"
      ],
      "metadata": {
        "id": "O1iTUhXuX3or"
      },
      "execution_count": null,
      "outputs": []
    },
    {
      "cell_type": "code",
      "source": [
        "clf = svm.SVC(kernel='linear', C=1.0, random_state=42)\n",
        "clf.fit(X_train, y_train)\n"
      ],
      "metadata": {
        "colab": {
          "base_uri": "https://localhost:8080/",
          "height": 74
        },
        "id": "i80OXmmwX3sJ",
        "outputId": "cdff4459-9d86-4109-c723-b574516f89d4"
      },
      "execution_count": null,
      "outputs": [
        {
          "output_type": "execute_result",
          "data": {
            "text/plain": [
              "SVC(kernel='linear', random_state=42)"
            ],
            "text/html": [
              "<style>#sk-container-id-1 {color: black;}#sk-container-id-1 pre{padding: 0;}#sk-container-id-1 div.sk-toggleable {background-color: white;}#sk-container-id-1 label.sk-toggleable__label {cursor: pointer;display: block;width: 100%;margin-bottom: 0;padding: 0.3em;box-sizing: border-box;text-align: center;}#sk-container-id-1 label.sk-toggleable__label-arrow:before {content: \"▸\";float: left;margin-right: 0.25em;color: #696969;}#sk-container-id-1 label.sk-toggleable__label-arrow:hover:before {color: black;}#sk-container-id-1 div.sk-estimator:hover label.sk-toggleable__label-arrow:before {color: black;}#sk-container-id-1 div.sk-toggleable__content {max-height: 0;max-width: 0;overflow: hidden;text-align: left;background-color: #f0f8ff;}#sk-container-id-1 div.sk-toggleable__content pre {margin: 0.2em;color: black;border-radius: 0.25em;background-color: #f0f8ff;}#sk-container-id-1 input.sk-toggleable__control:checked~div.sk-toggleable__content {max-height: 200px;max-width: 100%;overflow: auto;}#sk-container-id-1 input.sk-toggleable__control:checked~label.sk-toggleable__label-arrow:before {content: \"▾\";}#sk-container-id-1 div.sk-estimator input.sk-toggleable__control:checked~label.sk-toggleable__label {background-color: #d4ebff;}#sk-container-id-1 div.sk-label input.sk-toggleable__control:checked~label.sk-toggleable__label {background-color: #d4ebff;}#sk-container-id-1 input.sk-hidden--visually {border: 0;clip: rect(1px 1px 1px 1px);clip: rect(1px, 1px, 1px, 1px);height: 1px;margin: -1px;overflow: hidden;padding: 0;position: absolute;width: 1px;}#sk-container-id-1 div.sk-estimator {font-family: monospace;background-color: #f0f8ff;border: 1px dotted black;border-radius: 0.25em;box-sizing: border-box;margin-bottom: 0.5em;}#sk-container-id-1 div.sk-estimator:hover {background-color: #d4ebff;}#sk-container-id-1 div.sk-parallel-item::after {content: \"\";width: 100%;border-bottom: 1px solid gray;flex-grow: 1;}#sk-container-id-1 div.sk-label:hover label.sk-toggleable__label {background-color: #d4ebff;}#sk-container-id-1 div.sk-serial::before {content: \"\";position: absolute;border-left: 1px solid gray;box-sizing: border-box;top: 0;bottom: 0;left: 50%;z-index: 0;}#sk-container-id-1 div.sk-serial {display: flex;flex-direction: column;align-items: center;background-color: white;padding-right: 0.2em;padding-left: 0.2em;position: relative;}#sk-container-id-1 div.sk-item {position: relative;z-index: 1;}#sk-container-id-1 div.sk-parallel {display: flex;align-items: stretch;justify-content: center;background-color: white;position: relative;}#sk-container-id-1 div.sk-item::before, #sk-container-id-1 div.sk-parallel-item::before {content: \"\";position: absolute;border-left: 1px solid gray;box-sizing: border-box;top: 0;bottom: 0;left: 50%;z-index: -1;}#sk-container-id-1 div.sk-parallel-item {display: flex;flex-direction: column;z-index: 1;position: relative;background-color: white;}#sk-container-id-1 div.sk-parallel-item:first-child::after {align-self: flex-end;width: 50%;}#sk-container-id-1 div.sk-parallel-item:last-child::after {align-self: flex-start;width: 50%;}#sk-container-id-1 div.sk-parallel-item:only-child::after {width: 0;}#sk-container-id-1 div.sk-dashed-wrapped {border: 1px dashed gray;margin: 0 0.4em 0.5em 0.4em;box-sizing: border-box;padding-bottom: 0.4em;background-color: white;}#sk-container-id-1 div.sk-label label {font-family: monospace;font-weight: bold;display: inline-block;line-height: 1.2em;}#sk-container-id-1 div.sk-label-container {text-align: center;}#sk-container-id-1 div.sk-container {/* jupyter's `normalize.less` sets `[hidden] { display: none; }` but bootstrap.min.css set `[hidden] { display: none !important; }` so we also need the `!important` here to be able to override the default hidden behavior on the sphinx rendered scikit-learn.org. See: https://github.com/scikit-learn/scikit-learn/issues/21755 */display: inline-block !important;position: relative;}#sk-container-id-1 div.sk-text-repr-fallback {display: none;}</style><div id=\"sk-container-id-1\" class=\"sk-top-container\"><div class=\"sk-text-repr-fallback\"><pre>SVC(kernel=&#x27;linear&#x27;, random_state=42)</pre><b>In a Jupyter environment, please rerun this cell to show the HTML representation or trust the notebook. <br />On GitHub, the HTML representation is unable to render, please try loading this page with nbviewer.org.</b></div><div class=\"sk-container\" hidden><div class=\"sk-item\"><div class=\"sk-estimator sk-toggleable\"><input class=\"sk-toggleable__control sk-hidden--visually\" id=\"sk-estimator-id-1\" type=\"checkbox\" checked><label for=\"sk-estimator-id-1\" class=\"sk-toggleable__label sk-toggleable__label-arrow\">SVC</label><div class=\"sk-toggleable__content\"><pre>SVC(kernel=&#x27;linear&#x27;, random_state=42)</pre></div></div></div></div></div>"
            ]
          },
          "metadata": {},
          "execution_count": 8
        }
      ]
    },
    {
      "cell_type": "code",
      "source": [
        "y_pred = clf.predict(X_test)\n",
        "accuracy = accuracy_score(y_test, y_pred)\n",
        "print(f'Accuracy: {accuracy * 100:.2f}%')\n"
      ],
      "metadata": {
        "colab": {
          "base_uri": "https://localhost:8080/"
        },
        "id": "2mSyrm7SX34F",
        "outputId": "2d89137b-adf1-43ba-b4ed-b9efcd0a5745"
      },
      "execution_count": null,
      "outputs": [
        {
          "output_type": "stream",
          "name": "stdout",
          "text": [
            "Accuracy: 55.25%\n"
          ]
        }
      ]
    },
    {
      "cell_type": "code",
      "source": [],
      "metadata": {
        "id": "5lFEN-GEYEvB"
      },
      "execution_count": null,
      "outputs": []
    }
  ]
}